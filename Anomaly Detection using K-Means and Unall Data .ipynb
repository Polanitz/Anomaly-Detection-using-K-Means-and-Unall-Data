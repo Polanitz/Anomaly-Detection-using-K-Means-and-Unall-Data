{
 "cells": [
  {
   "cell_type": "code",
   "execution_count": 1,
   "metadata": {},
   "outputs": [
    {
     "name": "stderr",
     "output_type": "stream",
     "text": [
      "In C:\\ProgramData\\Anaconda3\\lib\\site-packages\\matplotlib\\mpl-data\\stylelib\\_classic_test.mplstyle: \n",
      "The text.latex.preview rcparam was deprecated in Matplotlib 3.3 and will be removed two minor releases later.\n",
      "In C:\\ProgramData\\Anaconda3\\lib\\site-packages\\matplotlib\\mpl-data\\stylelib\\_classic_test.mplstyle: \n",
      "The mathtext.fallback_to_cm rcparam was deprecated in Matplotlib 3.3 and will be removed two minor releases later.\n",
      "In C:\\ProgramData\\Anaconda3\\lib\\site-packages\\matplotlib\\mpl-data\\stylelib\\_classic_test.mplstyle: Support for setting the 'mathtext.fallback_to_cm' rcParam is deprecated since 3.3 and will be removed two minor releases later; use 'mathtext.fallback : 'cm' instead.\n",
      "In C:\\ProgramData\\Anaconda3\\lib\\site-packages\\matplotlib\\mpl-data\\stylelib\\_classic_test.mplstyle: \n",
      "The validate_bool_maybe_none function was deprecated in Matplotlib 3.3 and will be removed two minor releases later.\n",
      "In C:\\ProgramData\\Anaconda3\\lib\\site-packages\\matplotlib\\mpl-data\\stylelib\\_classic_test.mplstyle: \n",
      "The savefig.jpeg_quality rcparam was deprecated in Matplotlib 3.3 and will be removed two minor releases later.\n",
      "In C:\\ProgramData\\Anaconda3\\lib\\site-packages\\matplotlib\\mpl-data\\stylelib\\_classic_test.mplstyle: \n",
      "The keymap.all_axes rcparam was deprecated in Matplotlib 3.3 and will be removed two minor releases later.\n",
      "In C:\\ProgramData\\Anaconda3\\lib\\site-packages\\matplotlib\\mpl-data\\stylelib\\_classic_test.mplstyle: \n",
      "The animation.avconv_path rcparam was deprecated in Matplotlib 3.3 and will be removed two minor releases later.\n",
      "In C:\\ProgramData\\Anaconda3\\lib\\site-packages\\matplotlib\\mpl-data\\stylelib\\_classic_test.mplstyle: \n",
      "The animation.avconv_args rcparam was deprecated in Matplotlib 3.3 and will be removed two minor releases later.\n"
     ]
    }
   ],
   "source": [
    "import seaborn as sns\n",
    "import matplotlib.pyplot as plt\n",
    "import numpy as np\n",
    "import pandas as pd\n",
    "%matplotlib inline"
   ]
  },
  {
   "cell_type": "code",
   "execution_count": 2,
   "metadata": {},
   "outputs": [],
   "source": [
    "df = pd.read_csv('unall.csv')"
   ]
  },
  {
   "cell_type": "code",
   "execution_count": 3,
   "metadata": {},
   "outputs": [
    {
     "name": "stdout",
     "output_type": "stream",
     "text": [
      "<class 'pandas.core.frame.DataFrame'>\n",
      "RangeIndex: 14950 entries, 0 to 14949\n",
      "Data columns (total 8 columns):\n",
      "A    14950 non-null float64\n",
      "B    14950 non-null float64\n",
      "C    14950 non-null float64\n",
      "D    14950 non-null float64\n",
      "E    14950 non-null float64\n",
      "F    14950 non-null float64\n",
      "G    14950 non-null float64\n",
      "H    14950 non-null float64\n",
      "dtypes: float64(8)\n",
      "memory usage: 934.5 KB\n"
     ]
    }
   ],
   "source": [
    "df.info()"
   ]
  },
  {
   "cell_type": "code",
   "execution_count": 4,
   "metadata": {},
   "outputs": [
    {
     "data": {
      "text/html": [
       "<div>\n",
       "<style scoped>\n",
       "    .dataframe tbody tr th:only-of-type {\n",
       "        vertical-align: middle;\n",
       "    }\n",
       "\n",
       "    .dataframe tbody tr th {\n",
       "        vertical-align: top;\n",
       "    }\n",
       "\n",
       "    .dataframe thead th {\n",
       "        text-align: right;\n",
       "    }\n",
       "</style>\n",
       "<table border=\"1\" class=\"dataframe\">\n",
       "  <thead>\n",
       "    <tr style=\"text-align: right;\">\n",
       "      <th></th>\n",
       "      <th>A</th>\n",
       "      <th>B</th>\n",
       "      <th>C</th>\n",
       "      <th>D</th>\n",
       "      <th>E</th>\n",
       "      <th>F</th>\n",
       "      <th>G</th>\n",
       "      <th>H</th>\n",
       "    </tr>\n",
       "  </thead>\n",
       "  <tbody>\n",
       "    <tr>\n",
       "      <td>0</td>\n",
       "      <td>-9.160867</td>\n",
       "      <td>2.062130</td>\n",
       "      <td>4.837712</td>\n",
       "      <td>-4.346400</td>\n",
       "      <td>2.946743</td>\n",
       "      <td>0.603092</td>\n",
       "      <td>-8.299990</td>\n",
       "      <td>-8.165439</td>\n",
       "    </tr>\n",
       "    <tr>\n",
       "      <td>1</td>\n",
       "      <td>-0.231103</td>\n",
       "      <td>1.280835</td>\n",
       "      <td>-9.236738</td>\n",
       "      <td>-6.957041</td>\n",
       "      <td>3.804968</td>\n",
       "      <td>6.230847</td>\n",
       "      <td>-2.914726</td>\n",
       "      <td>8.033090</td>\n",
       "    </tr>\n",
       "    <tr>\n",
       "      <td>2</td>\n",
       "      <td>-9.048888</td>\n",
       "      <td>1.522202</td>\n",
       "      <td>5.120447</td>\n",
       "      <td>-4.911565</td>\n",
       "      <td>1.682313</td>\n",
       "      <td>0.114039</td>\n",
       "      <td>-8.477866</td>\n",
       "      <td>-7.879890</td>\n",
       "    </tr>\n",
       "    <tr>\n",
       "      <td>3</td>\n",
       "      <td>2.875032</td>\n",
       "      <td>-6.874256</td>\n",
       "      <td>1.354997</td>\n",
       "      <td>-2.420766</td>\n",
       "      <td>-7.512797</td>\n",
       "      <td>5.867499</td>\n",
       "      <td>8.617150</td>\n",
       "      <td>-4.975955</td>\n",
       "    </tr>\n",
       "    <tr>\n",
       "      <td>4</td>\n",
       "      <td>3.893718</td>\n",
       "      <td>-5.383670</td>\n",
       "      <td>1.013762</td>\n",
       "      <td>-3.266091</td>\n",
       "      <td>-5.721458</td>\n",
       "      <td>5.986232</td>\n",
       "      <td>9.082322</td>\n",
       "      <td>-4.018635</td>\n",
       "    </tr>\n",
       "  </tbody>\n",
       "</table>\n",
       "</div>"
      ],
      "text/plain": [
       "          A         B         C         D         E         F         G  \\\n",
       "0 -9.160867  2.062130  4.837712 -4.346400  2.946743  0.603092 -8.299990   \n",
       "1 -0.231103  1.280835 -9.236738 -6.957041  3.804968  6.230847 -2.914726   \n",
       "2 -9.048888  1.522202  5.120447 -4.911565  1.682313  0.114039 -8.477866   \n",
       "3  2.875032 -6.874256  1.354997 -2.420766 -7.512797  5.867499  8.617150   \n",
       "4  3.893718 -5.383670  1.013762 -3.266091 -5.721458  5.986232  9.082322   \n",
       "\n",
       "          H  \n",
       "0 -8.165439  \n",
       "1  8.033090  \n",
       "2 -7.879890  \n",
       "3 -4.975955  \n",
       "4 -4.018635  "
      ]
     },
     "execution_count": 4,
     "metadata": {},
     "output_type": "execute_result"
    }
   ],
   "source": [
    "df.head()"
   ]
  },
  {
   "cell_type": "code",
   "execution_count": 5,
   "metadata": {},
   "outputs": [
    {
     "data": {
      "text/html": [
       "<div>\n",
       "<style scoped>\n",
       "    .dataframe tbody tr th:only-of-type {\n",
       "        vertical-align: middle;\n",
       "    }\n",
       "\n",
       "    .dataframe tbody tr th {\n",
       "        vertical-align: top;\n",
       "    }\n",
       "\n",
       "    .dataframe thead th {\n",
       "        text-align: right;\n",
       "    }\n",
       "</style>\n",
       "<table border=\"1\" class=\"dataframe\">\n",
       "  <thead>\n",
       "    <tr style=\"text-align: right;\">\n",
       "      <th></th>\n",
       "      <th>A</th>\n",
       "      <th>B</th>\n",
       "      <th>C</th>\n",
       "      <th>D</th>\n",
       "      <th>E</th>\n",
       "      <th>F</th>\n",
       "      <th>G</th>\n",
       "      <th>H</th>\n",
       "    </tr>\n",
       "  </thead>\n",
       "  <tbody>\n",
       "    <tr>\n",
       "      <td>count</td>\n",
       "      <td>14950.000000</td>\n",
       "      <td>14950.000000</td>\n",
       "      <td>14950.000000</td>\n",
       "      <td>14950.000000</td>\n",
       "      <td>14950.000000</td>\n",
       "      <td>14950.000000</td>\n",
       "      <td>14950.000000</td>\n",
       "      <td>14950.000000</td>\n",
       "    </tr>\n",
       "    <tr>\n",
       "      <td>mean</td>\n",
       "      <td>-1.185934</td>\n",
       "      <td>-0.896184</td>\n",
       "      <td>-1.264331</td>\n",
       "      <td>-4.677766</td>\n",
       "      <td>0.351573</td>\n",
       "      <td>4.246823</td>\n",
       "      <td>-1.191025</td>\n",
       "      <td>-1.576727</td>\n",
       "    </tr>\n",
       "    <tr>\n",
       "      <td>std</td>\n",
       "      <td>5.363437</td>\n",
       "      <td>3.810385</td>\n",
       "      <td>6.002542</td>\n",
       "      <td>1.640221</td>\n",
       "      <td>4.788649</td>\n",
       "      <td>2.878928</td>\n",
       "      <td>7.757159</td>\n",
       "      <td>6.776770</td>\n",
       "    </tr>\n",
       "    <tr>\n",
       "      <td>min</td>\n",
       "      <td>-10.537627</td>\n",
       "      <td>-8.837181</td>\n",
       "      <td>-11.946330</td>\n",
       "      <td>-9.052931</td>\n",
       "      <td>-8.691842</td>\n",
       "      <td>-2.389107</td>\n",
       "      <td>-11.802741</td>\n",
       "      <td>-9.844519</td>\n",
       "    </tr>\n",
       "    <tr>\n",
       "      <td>25%</td>\n",
       "      <td>-7.855753</td>\n",
       "      <td>-5.708744</td>\n",
       "      <td>-8.961021</td>\n",
       "      <td>-6.132064</td>\n",
       "      <td>-5.879588</td>\n",
       "      <td>0.802655</td>\n",
       "      <td>-8.547466</td>\n",
       "      <td>-6.819367</td>\n",
       "    </tr>\n",
       "    <tr>\n",
       "      <td>50%</td>\n",
       "      <td>0.330952</td>\n",
       "      <td>1.218370</td>\n",
       "      <td>1.069696</td>\n",
       "      <td>-4.516473</td>\n",
       "      <td>3.223332</td>\n",
       "      <td>5.605626</td>\n",
       "      <td>-3.853067</td>\n",
       "      <td>-5.360770</td>\n",
       "    </tr>\n",
       "    <tr>\n",
       "      <td>75%</td>\n",
       "      <td>3.965798</td>\n",
       "      <td>1.987569</td>\n",
       "      <td>4.122531</td>\n",
       "      <td>-3.330587</td>\n",
       "      <td>3.927089</td>\n",
       "      <td>6.484949</td>\n",
       "      <td>8.867105</td>\n",
       "      <td>7.412088</td>\n",
       "    </tr>\n",
       "    <tr>\n",
       "      <td>max</td>\n",
       "      <td>6.530497</td>\n",
       "      <td>4.706302</td>\n",
       "      <td>7.092492</td>\n",
       "      <td>-0.320651</td>\n",
       "      <td>6.043994</td>\n",
       "      <td>9.069891</td>\n",
       "      <td>11.706608</td>\n",
       "      <td>10.643789</td>\n",
       "    </tr>\n",
       "  </tbody>\n",
       "</table>\n",
       "</div>"
      ],
      "text/plain": [
       "                  A             B             C             D             E  \\\n",
       "count  14950.000000  14950.000000  14950.000000  14950.000000  14950.000000   \n",
       "mean      -1.185934     -0.896184     -1.264331     -4.677766      0.351573   \n",
       "std        5.363437      3.810385      6.002542      1.640221      4.788649   \n",
       "min      -10.537627     -8.837181    -11.946330     -9.052931     -8.691842   \n",
       "25%       -7.855753     -5.708744     -8.961021     -6.132064     -5.879588   \n",
       "50%        0.330952      1.218370      1.069696     -4.516473      3.223332   \n",
       "75%        3.965798      1.987569      4.122531     -3.330587      3.927089   \n",
       "max        6.530497      4.706302      7.092492     -0.320651      6.043994   \n",
       "\n",
       "                  F             G             H  \n",
       "count  14950.000000  14950.000000  14950.000000  \n",
       "mean       4.246823     -1.191025     -1.576727  \n",
       "std        2.878928      7.757159      6.776770  \n",
       "min       -2.389107    -11.802741     -9.844519  \n",
       "25%        0.802655     -8.547466     -6.819367  \n",
       "50%        5.605626     -3.853067     -5.360770  \n",
       "75%        6.484949      8.867105      7.412088  \n",
       "max        9.069891     11.706608     10.643789  "
      ]
     },
     "execution_count": 5,
     "metadata": {},
     "output_type": "execute_result"
    }
   ],
   "source": [
    "df.describe()"
   ]
  },
  {
   "cell_type": "code",
   "execution_count": 6,
   "metadata": {},
   "outputs": [],
   "source": [
    "from sklearn.cluster import KMeans"
   ]
  },
  {
   "cell_type": "code",
   "execution_count": 7,
   "metadata": {},
   "outputs": [],
   "source": [
    "kmeans = KMeans(n_clusters=3)"
   ]
  },
  {
   "cell_type": "code",
   "execution_count": 8,
   "metadata": {},
   "outputs": [
    {
     "data": {
      "text/plain": [
       "KMeans(n_clusters=3)"
      ]
     },
     "execution_count": 8,
     "metadata": {},
     "output_type": "execute_result"
    }
   ],
   "source": [
    "kmeans.fit(df)"
   ]
  },
  {
   "cell_type": "code",
   "execution_count": 9,
   "metadata": {},
   "outputs": [
    {
     "data": {
      "text/plain": [
       "array([1])"
      ]
     },
     "execution_count": 9,
     "metadata": {},
     "output_type": "execute_result"
    }
   ],
   "source": [
    "kmeans.predict([[1,2,3,4,56,6,7,8]])"
   ]
  },
  {
   "cell_type": "code",
   "execution_count": 10,
   "metadata": {},
   "outputs": [
    {
     "data": {
      "text/plain": [
       "array([[64.83366692, 55.86262515, 58.47491789]])"
      ]
     },
     "execution_count": 10,
     "metadata": {},
     "output_type": "execute_result"
    }
   ],
   "source": [
    "kmeans.transform([[1,2,3,4,56,6,7,8]])"
   ]
  },
  {
   "cell_type": "code",
   "execution_count": 11,
   "metadata": {},
   "outputs": [
    {
     "data": {
      "text/plain": [
       "array([[ 4.43786571, -6.18676545,  1.07462692, -2.9622927 , -6.35467402,\n",
       "         5.71389715,  9.32984445, -5.3703528 ],\n",
       "       [ 0.33668422,  1.40613324, -9.44534503, -6.58114599,  3.70570442,\n",
       "         6.69023167, -3.8540745 ,  7.88929041],\n",
       "       [-8.31821248,  2.08027592,  4.5800723 , -4.48649629,  3.68890015,\n",
       "         0.34085028, -9.02460214, -7.25444951]])"
      ]
     },
     "execution_count": 11,
     "metadata": {},
     "output_type": "execute_result"
    }
   ],
   "source": [
    "kmeans.cluster_centers_"
   ]
  },
  {
   "cell_type": "code",
   "execution_count": 12,
   "metadata": {},
   "outputs": [],
   "source": [
    "dftest = pd.read_csv('un_test.csv')"
   ]
  },
  {
   "cell_type": "code",
   "execution_count": 13,
   "metadata": {},
   "outputs": [
    {
     "data": {
      "text/html": [
       "<div>\n",
       "<style scoped>\n",
       "    .dataframe tbody tr th:only-of-type {\n",
       "        vertical-align: middle;\n",
       "    }\n",
       "\n",
       "    .dataframe tbody tr th {\n",
       "        vertical-align: top;\n",
       "    }\n",
       "\n",
       "    .dataframe thead th {\n",
       "        text-align: right;\n",
       "    }\n",
       "</style>\n",
       "<table border=\"1\" class=\"dataframe\">\n",
       "  <thead>\n",
       "    <tr style=\"text-align: right;\">\n",
       "      <th></th>\n",
       "      <th>A</th>\n",
       "      <th>B</th>\n",
       "      <th>C</th>\n",
       "      <th>D</th>\n",
       "      <th>E</th>\n",
       "      <th>F</th>\n",
       "      <th>G</th>\n",
       "      <th>H</th>\n",
       "    </tr>\n",
       "  </thead>\n",
       "  <tbody>\n",
       "    <tr>\n",
       "      <td>0</td>\n",
       "      <td>-8.394198</td>\n",
       "      <td>2.130580</td>\n",
       "      <td>4.550989</td>\n",
       "      <td>-3.985735</td>\n",
       "      <td>3.675691</td>\n",
       "      <td>0.037279</td>\n",
       "      <td>-9.610096</td>\n",
       "      <td>-5.409832</td>\n",
       "    </tr>\n",
       "    <tr>\n",
       "      <td>1</td>\n",
       "      <td>4.952155</td>\n",
       "      <td>-6.417093</td>\n",
       "      <td>1.529750</td>\n",
       "      <td>-3.416331</td>\n",
       "      <td>-7.892094</td>\n",
       "      <td>5.861197</td>\n",
       "      <td>10.167782</td>\n",
       "      <td>-5.014432</td>\n",
       "    </tr>\n",
       "    <tr>\n",
       "      <td>2</td>\n",
       "      <td>0.712611</td>\n",
       "      <td>2.526579</td>\n",
       "      <td>-8.992137</td>\n",
       "      <td>-6.231673</td>\n",
       "      <td>4.253149</td>\n",
       "      <td>7.303107</td>\n",
       "      <td>-4.525618</td>\n",
       "      <td>7.960269</td>\n",
       "    </tr>\n",
       "    <tr>\n",
       "      <td>3</td>\n",
       "      <td>-8.711706</td>\n",
       "      <td>2.744574</td>\n",
       "      <td>4.786655</td>\n",
       "      <td>-4.568053</td>\n",
       "      <td>2.750779</td>\n",
       "      <td>0.306981</td>\n",
       "      <td>-8.467796</td>\n",
       "      <td>-8.006584</td>\n",
       "    </tr>\n",
       "    <tr>\n",
       "      <td>4</td>\n",
       "      <td>3.182528</td>\n",
       "      <td>-5.604574</td>\n",
       "      <td>2.234331</td>\n",
       "      <td>-2.845613</td>\n",
       "      <td>-5.954910</td>\n",
       "      <td>4.068180</td>\n",
       "      <td>9.842163</td>\n",
       "      <td>-6.777029</td>\n",
       "    </tr>\n",
       "  </tbody>\n",
       "</table>\n",
       "</div>"
      ],
      "text/plain": [
       "          A         B         C         D         E         F          G  \\\n",
       "0 -8.394198  2.130580  4.550989 -3.985735  3.675691  0.037279  -9.610096   \n",
       "1  4.952155 -6.417093  1.529750 -3.416331 -7.892094  5.861197  10.167782   \n",
       "2  0.712611  2.526579 -8.992137 -6.231673  4.253149  7.303107  -4.525618   \n",
       "3 -8.711706  2.744574  4.786655 -4.568053  2.750779  0.306981  -8.467796   \n",
       "4  3.182528 -5.604574  2.234331 -2.845613 -5.954910  4.068180   9.842163   \n",
       "\n",
       "          H  \n",
       "0 -5.409832  \n",
       "1 -5.014432  \n",
       "2  7.960269  \n",
       "3 -8.006584  \n",
       "4 -6.777029  "
      ]
     },
     "execution_count": 13,
     "metadata": {},
     "output_type": "execute_result"
    }
   ],
   "source": [
    "dftest.head()"
   ]
  },
  {
   "cell_type": "code",
   "execution_count": 14,
   "metadata": {},
   "outputs": [],
   "source": [
    "def k_mean_distance(samp,cent):\n",
    "        s = 0\n",
    "        for i in range(len(samp)):\n",
    "            s += ((samp[i]-cent[i])**2)\n",
    "        return np.sqrt(s)"
   ]
  },
  {
   "cell_type": "code",
   "execution_count": null,
   "metadata": {},
   "outputs": [],
   "source": []
  },
  {
   "cell_type": "code",
   "execution_count": 15,
   "metadata": {},
   "outputs": [],
   "source": [
    "s = dftest.iloc[2,:].values"
   ]
  },
  {
   "cell_type": "code",
   "execution_count": 16,
   "metadata": {},
   "outputs": [
    {
     "data": {
      "text/plain": [
       "array([ 0.71261085,  2.5265786 , -8.99213715, -6.23167263,  4.25314857,\n",
       "        7.3031071 , -4.52561755,  7.960269  ])"
      ]
     },
     "execution_count": 16,
     "metadata": {},
     "output_type": "execute_result"
    }
   ],
   "source": [
    "s"
   ]
  },
  {
   "cell_type": "code",
   "execution_count": 17,
   "metadata": {},
   "outputs": [
    {
     "name": "stdout",
     "output_type": "stream",
     "text": [
      "26.202275961416607\n",
      "1.689842321386629\n",
      "23.864730970399783\n"
     ]
    }
   ],
   "source": [
    "print(k_mean_distance(s,kmeans.cluster_centers_[0]))\n",
    "print(k_mean_distance(s,kmeans.cluster_centers_[1]))\n",
    "print(k_mean_distance(s,kmeans.cluster_centers_[2]))"
   ]
  },
  {
   "cell_type": "code",
   "execution_count": 18,
   "metadata": {},
   "outputs": [],
   "source": [
    "###########################\n",
    "# how to get those distances from sklean?"
   ]
  },
  {
   "cell_type": "code",
   "execution_count": 19,
   "metadata": {},
   "outputs": [],
   "source": [
    "#################################################"
   ]
  },
  {
   "cell_type": "code",
   "execution_count": 20,
   "metadata": {},
   "outputs": [
    {
     "data": {
      "text/plain": [
       "array([1])"
      ]
     },
     "execution_count": 20,
     "metadata": {},
     "output_type": "execute_result"
    }
   ],
   "source": [
    "kmeans.predict(s.reshape(1,-1))"
   ]
  },
  {
   "cell_type": "code",
   "execution_count": 21,
   "metadata": {},
   "outputs": [],
   "source": [
    "s = dftest.iloc[22,:].values"
   ]
  },
  {
   "cell_type": "code",
   "execution_count": 22,
   "metadata": {},
   "outputs": [
    {
     "data": {
      "text/plain": [
       "array([-6.60915229,  9.83777338,  0.93345454,  1.81839482,  3.79379379,\n",
       "        0.93376324,  9.10384722,  4.96225064])"
      ]
     },
     "execution_count": 22,
     "metadata": {},
     "output_type": "execute_result"
    }
   ],
   "source": [
    "s"
   ]
  },
  {
   "cell_type": "code",
   "execution_count": 23,
   "metadata": {},
   "outputs": [
    {
     "name": "stdout",
     "output_type": "stream",
     "text": [
      "25.186349514810328\n",
      "22.52174399298306\n",
      "24.380322267368268\n"
     ]
    }
   ],
   "source": [
    "print(k_mean_distance(s,kmeans.cluster_centers_[0]))\n",
    "print(k_mean_distance(s,kmeans.cluster_centers_[1]))\n",
    "print(k_mean_distance(s,kmeans.cluster_centers_[2]))"
   ]
  },
  {
   "cell_type": "code",
   "execution_count": 24,
   "metadata": {},
   "outputs": [
    {
     "data": {
      "text/plain": [
       "array([1])"
      ]
     },
     "execution_count": 24,
     "metadata": {},
     "output_type": "execute_result"
    }
   ],
   "source": [
    "kmeans.predict(s.reshape(1,-1))"
   ]
  },
  {
   "cell_type": "code",
   "execution_count": 25,
   "metadata": {},
   "outputs": [],
   "source": [
    "#############################################\n",
    "# build basic anomaly detection mechanism, for marking around X% of the test set as suspected \n",
    "# lead - np.min, len(np.where...)    % =  (how many > distance)/len(test)"
   ]
  },
  {
   "cell_type": "code",
   "execution_count": 26,
   "metadata": {},
   "outputs": [
    {
     "data": {
      "text/plain": [
       "array([[27.17586705, 23.10081754,  2.02426777],\n",
       "       [ 1.98620423, 26.67000096, 28.22616872],\n",
       "       [26.20227596,  1.68984232, 23.86473097],\n",
       "       [26.54971601, 24.61483625,  1.54997191],\n",
       "       [ 2.89529842, 26.65536312, 25.74097472],\n",
       "       [ 1.27300541, 24.86207543, 26.4603799 ]])"
      ]
     },
     "execution_count": 26,
     "metadata": {},
     "output_type": "execute_result"
    }
   ],
   "source": [
    "kmeans.transform(dftest)[:6]"
   ]
  },
  {
   "cell_type": "code",
   "execution_count": 27,
   "metadata": {},
   "outputs": [
    {
     "data": {
      "text/plain": [
       "array([2.02426777, 1.98620423, 1.68984232, 1.54997191, 2.89529842,\n",
       "       1.27300541])"
      ]
     },
     "execution_count": 27,
     "metadata": {},
     "output_type": "execute_result"
    }
   ],
   "source": [
    "aa = np.min(kmeans.transform(dftest)[:6], axis=1)\n",
    "aa"
   ]
  },
  {
   "cell_type": "code",
   "execution_count": 28,
   "metadata": {},
   "outputs": [
    {
     "data": {
      "text/plain": [
       "(array([0, 1, 4], dtype=int64),)"
      ]
     },
     "execution_count": 28,
     "metadata": {},
     "output_type": "execute_result"
    }
   ],
   "source": [
    "np.where(aa > 1.7)"
   ]
  },
  {
   "cell_type": "code",
   "execution_count": 29,
   "metadata": {},
   "outputs": [
    {
     "data": {
      "text/plain": [
       "0.16666666666666666"
      ]
     },
     "execution_count": 29,
     "metadata": {},
     "output_type": "execute_result"
    }
   ],
   "source": [
    "len(np.where(aa > 1.7))/len(aa)"
   ]
  },
  {
   "cell_type": "code",
   "execution_count": 30,
   "metadata": {},
   "outputs": [
    {
     "data": {
      "text/plain": [
       "array([2.02426777, 1.98620423, 1.68984232, 1.54997191, 2.89529842,\n",
       "       1.27300541])"
      ]
     },
     "execution_count": 30,
     "metadata": {},
     "output_type": "execute_result"
    }
   ],
   "source": [
    "aa"
   ]
  },
  {
   "cell_type": "code",
   "execution_count": 31,
   "metadata": {},
   "outputs": [
    {
     "data": {
      "text/plain": [
       "3"
      ]
     },
     "execution_count": 31,
     "metadata": {},
     "output_type": "execute_result"
    }
   ],
   "source": [
    "len(np.where(aa > 1.7)[0])"
   ]
  },
  {
   "cell_type": "code",
   "execution_count": 32,
   "metadata": {},
   "outputs": [
    {
     "data": {
      "text/plain": [
       "0.5"
      ]
     },
     "execution_count": 32,
     "metadata": {},
     "output_type": "execute_result"
    }
   ],
   "source": [
    "len(np.where(aa > 1.7)[0])/len(aa)"
   ]
  },
  {
   "cell_type": "code",
   "execution_count": 33,
   "metadata": {},
   "outputs": [],
   "source": [
    "p = []\n",
    "max_d = np.linspace(0, 40, 300)\n",
    "res = kmeans.transform(dftest)\n",
    "mins = np.min(res, axis=1)\n",
    "for d in max_d:\n",
    "    n_sus = len(np.where(mins > d)[0])\n",
    "    p.append(n_sus/len(res))\n",
    "\n"
   ]
  },
  {
   "cell_type": "code",
   "execution_count": 34,
   "metadata": {},
   "outputs": [
    {
     "data": {
      "text/plain": [
       "[<matplotlib.lines.Line2D at 0x176127ae9c8>]"
      ]
     },
     "execution_count": 34,
     "metadata": {},
     "output_type": "execute_result"
    },
    {
     "data": {
      "image/png": "[encoded data removed]",
      "text/plain": [
       "<Figure size 432x288 with 1 Axes>"
      ]
     },
     "metadata": {
      "needs_background": "light"
     },
     "output_type": "display_data"
    }
   ],
   "source": [
    "plt.plot(max_d, p, 'b-o')"
   ]
  },
  {
   "cell_type": "code",
   "execution_count": 35,
   "metadata": {},
   "outputs": [
    {
     "data": {
      "text/html": [
       "<div>\n",
       "<style scoped>\n",
       "    .dataframe tbody tr th:only-of-type {\n",
       "        vertical-align: middle;\n",
       "    }\n",
       "\n",
       "    .dataframe tbody tr th {\n",
       "        vertical-align: top;\n",
       "    }\n",
       "\n",
       "    .dataframe thead th {\n",
       "        text-align: right;\n",
       "    }\n",
       "</style>\n",
       "<table border=\"1\" class=\"dataframe\">\n",
       "  <thead>\n",
       "    <tr style=\"text-align: right;\">\n",
       "      <th></th>\n",
       "      <th>d</th>\n",
       "      <th>p</th>\n",
       "    </tr>\n",
       "  </thead>\n",
       "  <tbody>\n",
       "    <tr>\n",
       "      <td>0</td>\n",
       "      <td>0.000000</td>\n",
       "      <td>1.0</td>\n",
       "    </tr>\n",
       "    <tr>\n",
       "      <td>1</td>\n",
       "      <td>0.133779</td>\n",
       "      <td>1.0</td>\n",
       "    </tr>\n",
       "    <tr>\n",
       "      <td>2</td>\n",
       "      <td>0.267559</td>\n",
       "      <td>1.0</td>\n",
       "    </tr>\n",
       "    <tr>\n",
       "      <td>3</td>\n",
       "      <td>0.401338</td>\n",
       "      <td>1.0</td>\n",
       "    </tr>\n",
       "    <tr>\n",
       "      <td>4</td>\n",
       "      <td>0.535117</td>\n",
       "      <td>1.0</td>\n",
       "    </tr>\n",
       "  </tbody>\n",
       "</table>\n",
       "</div>"
      ],
      "text/plain": [
       "          d    p\n",
       "0  0.000000  1.0\n",
       "1  0.133779  1.0\n",
       "2  0.267559  1.0\n",
       "3  0.401338  1.0\n",
       "4  0.535117  1.0"
      ]
     },
     "execution_count": 35,
     "metadata": {},
     "output_type": "execute_result"
    }
   ],
   "source": [
    "df2 = pd.DataFrame()\n",
    "df2['d'] = max_d\n",
    "df2['p'] = p\n",
    "df2.head()"
   ]
  },
  {
   "cell_type": "code",
   "execution_count": 36,
   "metadata": {},
   "outputs": [
    {
     "data": {
      "text/html": [
       "<div>\n",
       "<style scoped>\n",
       "    .dataframe tbody tr th:only-of-type {\n",
       "        vertical-align: middle;\n",
       "    }\n",
       "\n",
       "    .dataframe tbody tr th {\n",
       "        vertical-align: top;\n",
       "    }\n",
       "\n",
       "    .dataframe thead th {\n",
       "        text-align: right;\n",
       "    }\n",
       "</style>\n",
       "<table border=\"1\" class=\"dataframe\">\n",
       "  <thead>\n",
       "    <tr style=\"text-align: right;\">\n",
       "      <th></th>\n",
       "      <th>d</th>\n",
       "      <th>p</th>\n",
       "    </tr>\n",
       "  </thead>\n",
       "  <tbody>\n",
       "    <tr>\n",
       "      <td>19</td>\n",
       "      <td>2.541806</td>\n",
       "      <td>0.216667</td>\n",
       "    </tr>\n",
       "    <tr>\n",
       "      <td>20</td>\n",
       "      <td>2.675585</td>\n",
       "      <td>0.200000</td>\n",
       "    </tr>\n",
       "    <tr>\n",
       "      <td>21</td>\n",
       "      <td>2.809365</td>\n",
       "      <td>0.183333</td>\n",
       "    </tr>\n",
       "    <tr>\n",
       "      <td>22</td>\n",
       "      <td>2.943144</td>\n",
       "      <td>0.166667</td>\n",
       "    </tr>\n",
       "    <tr>\n",
       "      <td>23</td>\n",
       "      <td>3.076923</td>\n",
       "      <td>0.166667</td>\n",
       "    </tr>\n",
       "  </tbody>\n",
       "</table>\n",
       "</div>"
      ],
      "text/plain": [
       "           d         p\n",
       "19  2.541806  0.216667\n",
       "20  2.675585  0.200000\n",
       "21  2.809365  0.183333\n",
       "22  2.943144  0.166667\n",
       "23  3.076923  0.166667"
      ]
     },
     "execution_count": 36,
     "metadata": {},
     "output_type": "execute_result"
    }
   ],
   "source": [
    "df2[df2.p < 0.25].head()"
   ]
  }
 ],
 "metadata": {
  "kernelspec": {
   "display_name": "Python 3",
   "language": "python",
   "name": "python3"
  },
  "language_info": {
   "codemirror_mode": {
    "name": "ipython",
    "version": 3
   },
   "file_extension": ".py",
   "mimetype": "text/x-python",
   "name": "python",
   "nbconvert_exporter": "python",
   "pygments_lexer": "ipython3",
   "version": "3.7.4"
  }
 },
 "nbformat": 4,
 "nbformat_minor": 1
}
